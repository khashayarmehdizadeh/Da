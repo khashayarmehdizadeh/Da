{
 "cells": [
  {
   "cell_type": "markdown",
   "metadata": {},
   "source": [
    "pandas is a powerful and flexible open-source data analysis and manipulation library for Python. It provides data structures like DataFrames and Series, which are essential for handling structured data. With pandas, you can easily perform operations such as data cleaning, transformation, aggregation, and visualization. It is widely used in data science, machine learning, and statistical analysis."
   ]
  },
  {
   "cell_type": "markdown",
   "metadata": {},
   "source": [
    "import pandas as pd \n",
    "and read data and save data"
   ]
  },
  {
   "cell_type": "code",
   "execution_count": null,
   "metadata": {},
   "outputs": [],
   "source": [
    "import pandas as pd\n",
    "import yfinance as yf\n",
    "df =yf.download()\n",
    "df =pd.read_csv(\"data.csv\")#read csv\n",
    "print(df.head())#show 5 line frist of the data\n",
    "df_excel=pd.read_excel('data.xlsx',sheet_name='sheet') #now we read sheet from data xlsx\n",
    "                             #how to save DataFrame?\n",
    "df.to_csv('output.csv',index=False) #save csv whithout index \n",
    "df.to_excel('output.xlsx',sheet_name='Results',index=False)"
   ]
  },
  {
   "cell_type": "markdown",
   "metadata": {},
   "source": [
    "After reading data in Pandas, it is usually necessary to get an initial understanding of the content and structure of the DataFrame. Here are some useful methods for this purpose:\n",
    "\n",
    "df.head(n) and df.tail(n): Display the first or last n rows (if n is not specified, the default is 5). This provides a quick view of the data.\n",
    "df.info(): Displays a summary of the DataFrame, including the number of rows and columns, column names and data types, and the count of non-null values.\n",
    "df.shape: Returns the dimensions of the DataFrame as (number of rows, number of columns).\n",
    "df.describe(): Provides basic descriptive statistics for numerical columns (such as mean, standard deviation, minimum, maximum, and quartiles)."
   ]
  },
  {
   "cell_type": "code",
   "execution_count": null,
   "metadata": {},
   "outputs": [],
   "source": [
    "#the after read the df\n",
    "print(df.shape) #the exist 5,1000 5 column and 10000 line\n",
    "print(df.columns) #show title of colmun\n",
    "df.info() #show summary of the data\n",
    "print(df.head(3)) # show the 3 line of frist\n"
   ]
  },
  {
   "cell_type": "markdown",
   "metadata": {},
   "source": [
    "The output of these commands provides general information about the DataFrame df. For example, df.info() is useful to determine the data type of each column (integer, float, string, etc.) and to check whether any columns contain missing values."
   ]
  },
  {
   "cell_type": "code",
   "execution_count": null,
   "metadata": {},
   "outputs": [],
   "source": [
    "print(df.describe())\n",
    "# The df.describe() method provides a summary of the numerical columns in the DataFrame.\n",
    "# It includes the count, mean, standard deviation, minimum, 25th percentile, median (50th percentile), 75th percentile, and maximum values."
   ]
  },
  {
   "cell_type": "markdown",
   "metadata": {},
   "source": [
    "Selecting and Filtering Data\n",
    "Pandas provides powerful capabilities for selecting subsets of data (including specific rows and columns) and filtering based on logical conditions. Below are different methods for selecting data:\n",
    "\n",
    "Selecting Columns\n",
    "\n",
    "Using column names:\n",
    "df['ColumnName'] returns a Series containing the data of that column.\n",
    "To select multiple columns, pass a list of column names: df[['Col1', 'Col2']] returns a DataFrame containing only those columns.\n",
    "\n",
    "Using attributes:\n",
    "\n",
    "If the column name has no spaces or special characters, you can also use df.ColumnName. However, the previous method is more general and reliable."
   ]
  },
  {
   "cell_type": "code",
   "execution_count": null,
   "metadata": {},
   "outputs": [],
   "source": [
    "#select one column \n",
    "ages=df['Age'] #The series related to the 'Age' column.\n",
    "\n",
    "#select some colmun\n",
    "\n",
    "subset=df[['Namw','City']] #The DataFrame includes two columns 'Name' and 'City'"
   ]
  },
  {
   "cell_type": "markdown",
   "metadata": {},
   "source": [
    "Selecting rows based on index using label-based and positional methods:\n",
    "\n",
    " df.loc[index_label] for selection based on the label or name of the row index (and also column), and df.iloc[index_position] for selection based on numerical position (row/column index numbers). \n",
    "\n",
    " To select a range of rows: df[start_index : end_index] (similar to slicing a list in Python) also works and returns rows from start to end-1."
   ]
  },
  {
   "cell_type": "code",
   "execution_count": null,
   "metadata": {},
   "outputs": [],
   "source": [
    "\n",
    "first_row=df.iloc[0] #The first row of the DataFrame as a Series.\n",
    "first_three_rows=df.iloc[0:3] #First three rows of the DataFrame.\n",
    "\n",
    "# If the dataframe has label-based indexing (for example, names of individuals) \n",
    "# df.loc['Ali'] returns the row with the label 'Ali' in the index"
   ]
  },
  {
   "cell_type": "markdown",
   "metadata": {},
   "source": [
    "Filtering rows based on a condition\n",
    " is one of the most commonly used features of Pandas; it involves filtering rows based on logical conditions. This is done by creating a boolean mask (True/False) and applying it to the dataframe:"
   ]
  },
  {
   "cell_type": "code",
   "execution_count": null,
   "metadata": {},
   "outputs": [],
   "source": [
    "adults=df[df['Age']>30] #filtering the age more than 30\n",
    "\n",
    "mask=(df['Age']>30)& (df['City'] == 'Tehran')\n",
    "\n",
    "filtered_df=df[mask]\n",
    "print(filtered_df)\n",
    "\n",
    "#Filter with multiple conditions: individuals who are older than 30 and their city is Tehran"
   ]
  }
 ],
 "metadata": {
  "kernelspec": {
   "display_name": "Python 3",
   "language": "python",
   "name": "python3"
  },
  "language_info": {
   "codemirror_mode": {
    "name": "ipython",
    "version": 3
   },
   "file_extension": ".py",
   "mimetype": "text/x-python",
   "name": "python",
   "nbconvert_exporter": "python",
   "pygments_lexer": "ipython3",
   "version": "3.13.1"
  }
 },
 "nbformat": 4,
 "nbformat_minor": 2
}
